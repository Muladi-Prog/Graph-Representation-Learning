{
  "nbformat": 4,
  "nbformat_minor": 0,
  "metadata": {
    "colab": {
      "provenance": []
    },
    "kernelspec": {
      "name": "python3",
      "display_name": "Python 3"
    },
    "language_info": {
      "name": "python"
    }
  },
  "cells": [
    {
      "cell_type": "code",
      "source": [
        "!pip install torch==2.0.0+cu118 torchvision==0.15.1+cu118 torchaudio==2.0.1 --index-url https://download.pytorch.org/whl/cu118\n",
        "!pip install pyg_lib torch_scatter torch_sparse torch_cluster torch_spline_conv -f https://data.pyg.org/whl/torch-2.0.0+cu118.html\n",
        "!pip install torch-geometric\n",
        "\n",
        "import torch\n",
        "print(torch.__version__)\n",
        "\n"
      ],
      "metadata": {
        "id": "D9L7D0YTjaQi"
      },
      "execution_count": null,
      "outputs": []
    },
    {
      "cell_type": "code",
      "execution_count": null,
      "metadata": {
        "id": "csqcZGnzjJMo"
      },
      "outputs": [],
      "source": [
        "import torch\n",
        "import torch_geometric\n",
        "import pyg_lib\n",
        "import torch_sparse\n",
        "from torch_geometric.sampler import NegativeSampling, NeighborSampler\n",
        "print(f\"Torch version: {torch.__version__}\")\n",
        "print(f\"Cuda available: {torch.cuda.is_available()}\")\n",
        "print(pyg_lib.__version__)\n",
        "print(torch_sparse.__version__)\n",
        "print(f\"Torch geometric version: {torch_geometric.__version__}\")\n",
        "import torch.nn.functional as F\n",
        "from torch_geometric.data import Dataset, Data\n",
        "import torch_geometric as pyg\n",
        "from torch_geometric.loader import LinkNeighborLoader\n",
        "from torch_geometric.nn import SAGEConv, to_hetero\n",
        "import torch_geometric.transforms as T\n",
        "from torch_geometric.data import HeteroData\n",
        "from torch_geometric.transforms import RandomLinkSplit\n",
        "from torch_geometric.utils import negative_sampling\n",
        "from torch import nn\n",
        "from torch import Tensor\n",
        "from tqdm import tqdm"
      ]
    },
    {
      "cell_type": "code",
      "source": [
        "\n",
        "\n",
        "class GNN(torch.nn.Module):\n",
        "    def __init__(self, hidden_channels):\n",
        "        super().__init__()\n",
        "        self.conv1 = SAGEConv(hidden_channels, hidden_channels)\n",
        "        self.conv2 = SAGEConv(hidden_channels, hidden_channels)\n",
        "\n",
        "    def forward(self, x: Tensor, edge_index: Tensor) -> Tensor:\n",
        "        # print(\"masuk\")\n",
        "        x = F.relu(self.conv1(x, edge_index))\n",
        "        # print(\"masuk1\")\n",
        "        x = self.conv2(x, edge_index)\n",
        "        # print(\"masuk2\")\n",
        "        return x\n",
        "\n",
        "\n",
        "class Classifier(torch.nn.Module):\n",
        "    def forward(self, x_user: Tensor, x_movie: Tensor, edge_label_index: Tensor) -> Tensor:\n",
        "\n",
        "        edge_feat_user = x_user[edge_label_index[0]]\n",
        "        edge_feat_movie = x_movie[edge_label_index[1]]\n",
        "        # print(\"Shape\")\n",
        "        # print(edge_feat_user.shape)\n",
        "        # print(edge_feat_movie.shape)\n",
        "        # print((edge_feat_user * edge_feat_movie).sum(dim=-1).shape)\n",
        "        return (edge_feat_user * edge_feat_movie).sum(dim=-1)\n",
        "\n",
        "\n",
        "class Model(torch.nn.Module):\n",
        "    def __init__(self, hidden_channels):\n",
        "        super().__init__()\n",
        "        # Since the dataset does not come with rich features, we also learn two\n",
        "        # embedding matrices for users and movies:\n",
        "        self.movie_lin = torch.nn.Linear(89, hidden_channels)\n",
        "        self.user_lin = torch.nn.Linear(2, hidden_channels)\n",
        "        self.user_emb = torch.nn.Embedding(\n",
        "            input_data_test[\"user\"].num_nodes, hidden_channels)\n",
        "        self.movie_emb = torch.nn.Embedding(\n",
        "            input_data_test[\"movie\"].num_nodes, hidden_channels)\n",
        "        # Instantiate homogeneous GNN:\n",
        "        self.gnn = GNN(hidden_channels)\n",
        "        # Convert GNN model into a heterogeneous variant:\n",
        "        self.gnn = to_hetero(self.gnn, metadata=input_data_test.metadata())\n",
        "        self.classifier = Classifier()\n",
        "\n",
        "    def forward(self, data: HeteroData) -> Tensor:\n",
        "\n",
        "        movie_emb_dict = self.movie_emb(input_data_test[\"movie\"].node_id)\n",
        "        movie_lin_dict = self.movie_lin(input_data_test[\"movie\"].x)\n",
        "\n",
        "        x_dict = {\n",
        "            \"user\": self.user_lin(input_data_test[\"user\"].x) + self.user_emb(input_data_test[\"user\"].node_id),\n",
        "            # self.user_lin(data[\"user\"].x) + self.user_emb(data[\"user\"].node_id),\n",
        "            \"movie\": movie_emb_dict + movie_lin_dict,\n",
        "        }\n",
        "        # print(\"EDGE INDEX DICT\")\n",
        "        # print(data.edge_index_dict)\n",
        "\n",
        "        x_dict = self.gnn(x_dict, data.edge_index_dict)\n",
        "        pred = self.classifier(\n",
        "            x_dict[\"user\"],\n",
        "            x_dict[\"movie\"],\n",
        "            data[\"user\", \"rating\", \"movie\"].edge_index,\n",
        "        )\n",
        "        return pred\n"
      ],
      "metadata": {
        "id": "857sEWVwjNuh"
      },
      "execution_count": null,
      "outputs": []
    },
    {
      "cell_type": "code",
      "source": [
        "from google.colab import drive\n",
        "drive.mount('/content/drive')"
      ],
      "metadata": {
        "id": "WeY7ogDwjXXB"
      },
      "execution_count": null,
      "outputs": []
    },
    {
      "cell_type": "code",
      "source": [
        "import os\n",
        "print(os.listdir())\n",
        "os.chdir(\"sample_data\")"
      ],
      "metadata": {
        "id": "6ZEH1mFgjgOO"
      },
      "execution_count": null,
      "outputs": []
    },
    {
      "cell_type": "code",
      "source": [
        "# print(\"LOAD!!!!!!!!!!!!!!!!!!!!!!!!!!!!!!!!!!!!!!!\")\n",
        "input_data_test = torch.load('../drive/MyDrive/Anime/input_data_test_user_id_0.pt')\n",
        "print(input_data_test)"
      ],
      "metadata": {
        "id": "vUqumUy7jjuz"
      },
      "execution_count": null,
      "outputs": []
    },
    {
      "cell_type": "code",
      "source": [
        "checkpoint_path = '../drive/MyDrive/Anime/Anime_GNN_updated.pt'\n",
        "checkpoint = torch.load(checkpoint_path)\n",
        "# Load the model\n",
        "model = Model(hidden_channels=64)\n",
        "model.load_state_dict(checkpoint)\n",
        "\n",
        "# Move the model to the desired device (e.g., GPU)\n",
        "device = torch.device('cuda' if torch.cuda.is_available() else 'cpu')\n",
        "model = model.to(device)"
      ],
      "metadata": {
        "id": "f-AEHn6_jXtq"
      },
      "execution_count": null,
      "outputs": []
    },
    {
      "cell_type": "code",
      "source": [
        "input_data_test.to(device)"
      ],
      "metadata": {
        "id": "f40bNfjnjZpe"
      },
      "execution_count": null,
      "outputs": []
    },
    {
      "cell_type": "code",
      "source": [
        "test_preds = []\n",
        "testing_data.to(device)\n",
        "test_preds.append(model(testing_data))\n"
      ],
      "metadata": {
        "id": "CvNl-sKwj5Ic"
      },
      "execution_count": null,
      "outputs": []
    },
    {
      "cell_type": "code",
      "source": [
        "top_k_values, top_k_indices = torch.topk(test_preds[0], k=10)\n",
        "\n",
        "# The 'top_k_values' tensor contains the top 10 elements.\n",
        "# The 'top_k_indices' tensor contains the indices of the top 10 elements.\n",
        "\n",
        "print(\"Top 10 Values:\")\n",
        "print(top_k_values)\n",
        "print(\"\\nTop 10 Indices:\")\n",
        "print(top_k_indices)\n"
      ],
      "metadata": {
        "id": "ZP-WhlTWj6mh"
      },
      "execution_count": null,
      "outputs": []
    },
    {
      "cell_type": "code",
      "source": [
        "top_10_indices = top_k_indices.tolist()\n",
        "\n",
        "prediction_list = []\n",
        "for index in top_10_indices:\n",
        "  print(testing_data['user', 'rating', 'movie'].edge_index[0][index])\n",
        "  print(index)\n",
        "  prediction_list.append(testing_data['user', 'rating', 'movie'].edge_index[1][index])"
      ],
      "metadata": {
        "id": "5SKFOjZ4j73t"
      },
      "execution_count": null,
      "outputs": []
    },
    {
      "cell_type": "code",
      "source": [
        "prediction_list"
      ],
      "metadata": {
        "id": "SxFo8iMoj-Zu"
      },
      "execution_count": null,
      "outputs": []
    }
  ]
}